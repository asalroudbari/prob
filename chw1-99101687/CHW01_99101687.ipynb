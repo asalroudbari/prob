{
  "nbformat": 4,
  "nbformat_minor": 0,
  "metadata": {
    "colab": {
      "name": "CHW01-99101687.ipynb",
      "provenance": [],
      "collapsed_sections": []
    },
    "kernelspec": {
      "name": "python3",
      "display_name": "Python 3"
    },
    "language_info": {
      "name": "python"
    }
  },
  "cells": [
    {
      "cell_type": "markdown",
      "metadata": {
        "id": "N-FEbiHhKjt4"
      },
      "source": [
        "Q1 - Part 1"
      ]
    },
    {
      "cell_type": "code",
      "metadata": {
        "id": "uv-HsirzLHSa",
        "colab": {
          "base_uri": "https://localhost:8080/",
          "height": 282
        },
        "outputId": "11ec6401-550f-42b9-c66d-5157854ae5d8"
      },
      "source": [
        "import matplotlib.pyplot as plt\n",
        "import numpy as np\n",
        "from scipy.stats import bernoulli, binom\n",
        "import seaborn as sns\n",
        "p = 0.6\n",
        "X1 = bernoulli(p)\n",
        "X2 = bernoulli(p)\n",
        "X3 = bernoulli(p)\n",
        "X1_samples = X1.rvs(500)\n",
        "X2_samples = X2.rvs(500)\n",
        "X3_samples = X3.rvs(500)\n",
        "X = list(X1_samples + X2_samples + X3_samples)\n",
        "numbers = []\n",
        "normalized = []\n",
        "for i in range (0 , 4):\n",
        "  numbers.append(X.count(i))\n",
        "  normalized.append(numbers[i]/(len(X)))\n",
        "plt.bar([0 , 1, 2 ,3] , normalized , width = 0.5)\n",
        "plt.show\n"
      ],
      "execution_count": null,
      "outputs": [
        {
          "output_type": "execute_result",
          "data": {
            "text/plain": [
              "<function matplotlib.pyplot.show>"
            ]
          },
          "metadata": {},
          "execution_count": 10
        },
        {
          "output_type": "display_data",
          "data": {
            "image/png": "[encoded data removed]",
            "text/plain": [
              "<Figure size 432x288 with 1 Axes>"
            ]
          },
          "metadata": {
            "needs_background": "light"
          }
        }
      ]
    },
    {
      "cell_type": "markdown",
      "metadata": {
        "id": "z5Dq1SatLIAn"
      },
      "source": [
        "Q1 - Part 2"
      ]
    },
    {
      "cell_type": "code",
      "metadata": {
        "id": "a7g1xeOMLK66",
        "colab": {
          "base_uri": "https://localhost:8080/",
          "height": 281
        },
        "outputId": "ff2a7084-9a9c-46ca-b636-2f89b9db6669"
      },
      "source": [
        "import numpy as np\n",
        "from scipy.stats import norm\n",
        "import matplotlib.pyplot as plt\n",
        "\n",
        "data = norm.rvs(1.0, 2, size=100)\n",
        "mu, std = norm.fit(data)\n",
        "plt.hist(data, bins=25, density=True, alpha=0.6, edgecolor = 'black', color='b')\n",
        "xmin, xmax = plt.xlim()\n",
        "x = np.linspace(xmin, xmax, 100)\n",
        "p = norm.pdf(x, mu, std)\n",
        "plt.plot(x, p, 'k', linewidth=2)\n",
        "title = \"Fit results: mu = %.2f,  std = %.2f\" % (mu, std)\n",
        "plt.title(title)\n",
        "\n",
        "plt.show()\n"
      ],
      "execution_count": null,
      "outputs": [
        {
          "output_type": "display_data",
          "data": {
            "image/png": "[encoded data removed]",
            "text/plain": [
              "<Figure size 432x288 with 1 Axes>"
            ]
          },
          "metadata": {
            "needs_background": "light"
          }
        }
      ]
    },
    {
      "cell_type": "markdown",
      "metadata": {
        "id": "cSIM5b-yLLP1"
      },
      "source": [
        "Q1 - Part 3 \n"
      ]
    },
    {
      "cell_type": "code",
      "metadata": {
        "id": "sw4WjSpqLNVC",
        "colab": {
          "base_uri": "https://localhost:8080/",
          "height": 317
        },
        "outputId": "7364a3d1-f039-4d2c-eb60-8e1e164cd0c5"
      },
      "source": [
        "import numpy as np\n",
        "import math\n",
        "import matplotlib.pyplot as plt\n",
        "import statistics\n",
        "n = 5\n",
        "i = 0\n",
        "Y=[]\n",
        "while i<1000:\n",
        "    x=list(np.random.exponential(scale=1,size=n))\n",
        "    m = len(x)\n",
        "    s = 0\n",
        "    for j in range(0,m): \n",
        "        s+=x[j] / n\n",
        "    Y.append(s)\n",
        "    i+=1\n",
        "plt.hist(Y,color='b',edgecolor='black',bins=50,density=True,stacked=True)\n",
        "var = statistics.variance(Y) \n",
        "E= sum(Y)/len(Y)\n",
        "print('for n = 5 : ')\n",
        "print(f'variance = {var}')\n",
        "print(f'mathematical expectation = {E}')"
      ],
      "execution_count": 6,
      "outputs": [
        {
          "output_type": "stream",
          "name": "stdout",
          "text": [
            "for n = 5 : \n",
            "variance = 0.18435179710910019\n",
            "mathematical expectation = 0.9929307027366865\n"
          ]
        },
        {
          "output_type": "display_data",
          "data": {
            "image/png": "[encoded data removed]",
            "text/plain": [
              "<Figure size 432x288 with 1 Axes>"
            ]
          },
          "metadata": {
            "needs_background": "light"
          }
        }
      ]
    },
    {
      "cell_type": "code",
      "source": [
        "import numpy as np\n",
        "import math\n",
        "import matplotlib.pyplot as plt\n",
        "import statistics\n",
        "n = 40\n",
        "i = 0\n",
        "Y=[]\n",
        "while i<1000:\n",
        "    x=list(np.random.exponential(scale=1,size=n))\n",
        "    m = len(x)\n",
        "    s = 0\n",
        "    for j in range(0,m): \n",
        "        s+=x[j] / n\n",
        "    Y.append(s)\n",
        "    i+=1\n",
        "plt.hist(Y,color='b',edgecolor='black',bins=50,density=True,stacked=True)\n",
        "var = statistics.variance(Y) \n",
        "E=sum(Y)/len(Y)\n",
        "print('for n = 40 : ')\n",
        "print(f'variance = {var}')\n",
        "print(f'mathematical expectation = {E}')"
      ],
      "metadata": {
        "colab": {
          "base_uri": "https://localhost:8080/",
          "height": 317
        },
        "id": "NIOnUnKcFpzh",
        "outputId": "0b1bb46c-b72d-423b-8022-05fcdee57bcc"
      },
      "execution_count": 7,
      "outputs": [
        {
          "output_type": "stream",
          "name": "stdout",
          "text": [
            "for n = 40 : \n",
            "variance = 0.02386497714968389\n",
            "mathematical expectation = 0.9947371732199219\n"
          ]
        },
        {
          "output_type": "display_data",
          "data": {
            "image/png": "[encoded data removed]",
            "text/plain": [
              "<Figure size 432x288 with 1 Axes>"
            ]
          },
          "metadata": {
            "needs_background": "light"
          }
        }
      ]
    },
    {
      "cell_type": "code",
      "source": [
        "import numpy as np\n",
        "import math\n",
        "import matplotlib.pyplot as plt\n",
        "import statistics\n",
        "n = 300\n",
        "i = 0\n",
        "Y=[]\n",
        "while i<1000:\n",
        "    x=list(np.random.exponential(scale=1,size=n))\n",
        "    m = len(x)\n",
        "    s = 0\n",
        "    for j in range(0,m): \n",
        "        s+=x[j] / n\n",
        "    Y.append(s)\n",
        "    i+=1\n",
        "plt.hist(Y,color='b',edgecolor='black',bins=50,density=True,stacked=True)\n",
        "var = statistics.variance(Y) \n",
        "E=sum(Y)/len(Y)\n",
        "print('for n = 300 : ')\n",
        "print(f'variance = {var}')\n",
        "print(f'mathematical expectation = {E}')"
      ],
      "metadata": {
        "colab": {
          "base_uri": "https://localhost:8080/",
          "height": 317
        },
        "id": "LBmsQBU-MSlR",
        "outputId": "357988a2-9b57-4822-8ee4-e8d26d87cae0"
      },
      "execution_count": 8,
      "outputs": [
        {
          "output_type": "stream",
          "name": "stdout",
          "text": [
            "for n = 300 : \n",
            "variance = 0.003468697128059971\n",
            "mathematical expectation = 1.0012276540745637\n"
          ]
        },
        {
          "output_type": "display_data",
          "data": {
            "image/png": "[encoded data removed]",
            "text/plain": [
              "<Figure size 432x288 with 1 Axes>"
            ]
          },
          "metadata": {
            "needs_background": "light"
          }
        }
      ]
    },
    {
      "cell_type": "markdown",
      "metadata": {
        "id": "TnU4gTbYLNnl"
      },
      "source": [
        "Q1 - Part4"
      ]
    },
    {
      "cell_type": "code",
      "metadata": {
        "id": "hNLApXyOLQ3a",
        "colab": {
          "base_uri": "https://localhost:8080/",
          "height": 266
        },
        "outputId": "4f241315-7a8c-4976-a598-68dfb090982c"
      },
      "source": [
        "import numpy as np\n",
        "import math\n",
        "import matplotlib.pyplot as plt\n",
        "import statistics\n",
        "x=list(np.random.exponential(scale=1,size=1000))\n",
        "cumulative_average=[]\n",
        "cumulative_average.append(x[0])\n",
        "for i in range(1,1000):\n",
        "    cumulative_average.append((x[i]+cumulative_average[i-1]*i)/(i+1))\n",
        "plt.plot(range(1,1001),cumulative_average)\n",
        "plt.show()"
      ],
      "execution_count": null,
      "outputs": [
        {
          "output_type": "display_data",
          "data": {
            "image/png": "[encoded data removed]",
            "text/plain": [
              "<Figure size 432x288 with 1 Axes>"
            ]
          },
          "metadata": {
            "needs_background": "light"
          }
        }
      ]
    },
    {
      "cell_type": "markdown",
      "metadata": {
        "id": "iO9FB_PzLRN9"
      },
      "source": [
        "Q1 - Part 5"
      ]
    },
    {
      "cell_type": "code",
      "metadata": {
        "id": "TCycOsLULS3K",
        "colab": {
          "base_uri": "https://localhost:8080/",
          "height": 265
        },
        "outputId": "af8e36cb-e00f-4279-f307-50847e7bb4dd"
      },
      "source": [
        "import numpy as np\n",
        "from scipy.special import factorial\n",
        "import matplotlib.pyplot as plt\n",
        "import statistics\n",
        "landa=0.5 \n",
        "x=list(np.random.exponential(scale=1/landa,size=1000)) \n",
        "x2=[]\n",
        "Y=[] \n",
        "x2.append(0)\n",
        "time=0\n",
        "for k in range(0,len(x)):\n",
        "    time+=x[k]\n",
        "    x2.append(time)\n",
        "    \n",
        "m1=int(max(x2))\n",
        "for i in range(0,m1+1):\n",
        "    counter=0\n",
        "    for j in range(0,len(x2)):\n",
        "        if x2[j]<i+1 and x2[j]>=i :\n",
        "            counter+=1\n",
        "    Y.append(counter)\n",
        "m2=max(Y)\n",
        "Z=[]\n",
        "for i in range(0,m2+1):\n",
        "    counter=0\n",
        "    for j in range(0,len(Y)):\n",
        "        if Y[j]==i:\n",
        "            counter+=1\n",
        "    Z.append(counter/len(Y))\n",
        "\n",
        "t = np.arange(0, m2, 1)\n",
        "d = np.exp(-landa)*np.power(landa, t)/factorial(t)\n",
        "xlist=list(range(0,m2+1))\n",
        "width=0.5\n",
        "fig, ax = plt.subplots()\n",
        "rects1 = ax.bar(t - width/2, d, width, label='poisson')\n",
        "rects2 = ax.bar(np.array(xlist) + width/2, Z, width, label='our plot')\n",
        "ax.legend()\n",
        "\n",
        "plt.show()"
      ],
      "execution_count": 9,
      "outputs": [
        {
          "output_type": "display_data",
          "data": {
            "image/png": "[encoded data removed]",
            "text/plain": [
              "<Figure size 432x288 with 1 Axes>"
            ]
          },
          "metadata": {
            "needs_background": "light"
          }
        }
      ]
    },
    {
      "cell_type": "code",
      "source": [
        ""
      ],
      "metadata": {
        "id": "-Lxe8Ca2fnpg"
      },
      "execution_count": null,
      "outputs": []
    },
    {
      "cell_type": "markdown",
      "metadata": {
        "id": "KaXihbGPKZDf"
      },
      "source": [
        "Q2 - Part 1\n"
      ]
    },
    {
      "cell_type": "code",
      "metadata": {
        "colab": {
          "base_uri": "https://localhost:8080/",
          "height": 265
        },
        "id": "gTYkkt6eh_tR",
        "outputId": "ba958e80-edbe-4b0c-e965-4423135ca3da"
      },
      "source": [
        "from random import randint\n",
        "\n",
        "k=0\n",
        "probs = []\n",
        "while k<1000:\n",
        "    days=[]\n",
        "    for i in range(365):\n",
        "        m = randint(1,365)\n",
        "        days.append(m)\n",
        "        if(days.count(days[i])>1):\n",
        "            probs.append(i+1)\n",
        "            break\n",
        "    k+=1\n",
        "plt.hist(probs ,edgecolor='black',bins= 50,density='true')\n",
        "plt.show()"
      ],
      "execution_count": null,
      "outputs": [
        {
          "output_type": "display_data",
          "data": {
            "image/png": "[encoded data removed]",
            "text/plain": [
              "<Figure size 432x288 with 1 Axes>"
            ]
          },
          "metadata": {
            "needs_background": "light"
          }
        }
      ]
    },
    {
      "cell_type": "markdown",
      "metadata": {
        "id": "q03pnIAgLUu3"
      },
      "source": [
        "Q2 - Part 2"
      ]
    },
    {
      "cell_type": "code",
      "metadata": {
        "id": "WDRSvLtSLWSD",
        "colab": {
          "base_uri": "https://localhost:8080/",
          "height": 282
        },
        "outputId": "75fb8c86-3d24-43d4-b780-0356a2cd8c2b"
      },
      "source": [
        "import math\n",
        "\n",
        "\n",
        "def prob(k) :\n",
        "  a = pow ( 365 , k)\n",
        "  b = math.factorial(365 - k)\n",
        "  c = math.factorial(365) \n",
        "  p = 1 - c/(b*a) \n",
        "  return p\n",
        "\n",
        "\n",
        "flag = 0 \n",
        "k = 5\n",
        "while flag == 0 :\n",
        "  if prob(k) > 0.5 :\n",
        "    flag = 1\n",
        "    print(k)\n",
        "    break\n",
        "  else:\n",
        "    k+=1\n",
        "\n",
        "\n",
        "probs = []\n",
        "for i in range (1 , 366) :\n",
        "  probs.append(prob(i))\n",
        "plt.plot(list(range(1,366)),probs)\n",
        "plt.show()\n"
      ],
      "execution_count": null,
      "outputs": [
        {
          "output_type": "stream",
          "name": "stdout",
          "text": [
            "23\n"
          ]
        },
        {
          "output_type": "display_data",
          "data": {
            "image/png": "[encoded data removed]",
            "text/plain": [
              "<Figure size 432x288 with 1 Axes>"
            ]
          },
          "metadata": {
            "needs_background": "light"
          }
        }
      ]
    }
  ]
}